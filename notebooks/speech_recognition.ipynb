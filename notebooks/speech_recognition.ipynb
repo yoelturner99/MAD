{
 "cells": [
  {
   "cell_type": "code",
   "execution_count": 14,
   "metadata": {},
   "outputs": [],
   "source": [
    "import speech_recognition as sr"
   ]
  },
  {
   "cell_type": "code",
   "execution_count": 15,
   "metadata": {},
   "outputs": [],
   "source": [
    "# initialize the recognizer\n",
    "r = sr.Recognizer()"
   ]
  },
  {
   "cell_type": "code",
   "execution_count": 18,
   "metadata": {},
   "outputs": [
    {
     "name": "stdout",
     "output_type": "stream",
     "text": [
      "espèce de fils de pute je nique ta mère espèce de rebeu va\n"
     ]
    }
   ],
   "source": [
    "\n",
    "filename = \"../data/vocal/test_insulte.wav\"\n",
    "# Extracting the audio & removing ambient noice\n",
    "audio_file = sr.AudioFile(filename)\n",
    "with audio_file as source:\n",
    "    r.adjust_for_ambient_noise(source)\n",
    "    audio = r.record(source)\n",
    "\n",
    "# Recognize the audio\n",
    "text = r.recognize_google(audio, language=\"fr-FR\")\n",
    "print(text)"
   ]
  }
 ],
 "metadata": {
  "kernelspec": {
   "display_name": "mad-env",
   "language": "python",
   "name": "python3"
  },
  "language_info": {
   "codemirror_mode": {
    "name": "ipython",
    "version": 3
   },
   "file_extension": ".py",
   "mimetype": "text/x-python",
   "name": "python",
   "nbconvert_exporter": "python",
   "pygments_lexer": "ipython3",
   "version": "3.9.18"
  }
 },
 "nbformat": 4,
 "nbformat_minor": 2
}
