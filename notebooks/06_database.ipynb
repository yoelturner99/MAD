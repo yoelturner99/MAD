{
 "cells": [
  {
   "cell_type": "code",
   "execution_count": 1,
   "metadata": {},
   "outputs": [],
   "source": [
    "import sqlite3\n",
    "import pandas as pd\n",
    "\n",
    "# Il interprete mal les smileys\n",
    "# Le modele est vraiment binaire (Detecte pas les nuances e.g. sarcasmes etc...)"
   ]
  },
  {
   "cell_type": "code",
   "execution_count": 2,
   "metadata": {},
   "outputs": [
    {
     "data": {
      "text/html": [
       "<div>\n",
       "<style scoped>\n",
       "    .dataframe tbody tr th:only-of-type {\n",
       "        vertical-align: middle;\n",
       "    }\n",
       "\n",
       "    .dataframe tbody tr th {\n",
       "        vertical-align: top;\n",
       "    }\n",
       "\n",
       "    .dataframe thead th {\n",
       "        text-align: right;\n",
       "    }\n",
       "</style>\n",
       "<table border=\"1\" class=\"dataframe\">\n",
       "  <thead>\n",
       "    <tr style=\"text-align: right;\">\n",
       "      <th></th>\n",
       "      <th>msg_id</th>\n",
       "      <th>channel_id</th>\n",
       "      <th>user_id</th>\n",
       "      <th>msg</th>\n",
       "      <th>msg_type</th>\n",
       "      <th>label</th>\n",
       "      <th>score</th>\n",
       "      <th>date</th>\n",
       "    </tr>\n",
       "  </thead>\n",
       "  <tbody>\n",
       "    <tr>\n",
       "      <th>4</th>\n",
       "      <td>1196847175108399125</td>\n",
       "      <td>1191764926793011233</td>\n",
       "      <td>neila0447</td>\n",
       "      <td>Hello , tu pues</td>\n",
       "      <td>text</td>\n",
       "      <td>haineux</td>\n",
       "      <td>0.981475</td>\n",
       "      <td>2024-01-16T16:03:22</td>\n",
       "    </tr>\n",
       "    <tr>\n",
       "      <th>3</th>\n",
       "      <td>1196853381394878515</td>\n",
       "      <td>1191764926793011233</td>\n",
       "      <td>neila0447</td>\n",
       "      <td>C’est un message test je ne vise personne 😋</td>\n",
       "      <td>text</td>\n",
       "      <td>non haineux</td>\n",
       "      <td>0.988774</td>\n",
       "      <td>2024-01-16T16:28:02</td>\n",
       "    </tr>\n",
       "    <tr>\n",
       "      <th>2</th>\n",
       "      <td>1196858645539999837</td>\n",
       "      <td>1191764926793011233</td>\n",
       "      <td>mina_69355</td>\n",
       "      <td>tktt neilouche</td>\n",
       "      <td>text</td>\n",
       "      <td>haineux</td>\n",
       "      <td>0.970753</td>\n",
       "      <td>2024-01-16T16:48:57</td>\n",
       "    </tr>\n",
       "    <tr>\n",
       "      <th>1</th>\n",
       "      <td>1196858677685137539</td>\n",
       "      <td>1191764926793011233</td>\n",
       "      <td>mina_69355</td>\n",
       "      <td>on sait ❤️</td>\n",
       "      <td>text</td>\n",
       "      <td>non haineux</td>\n",
       "      <td>0.777469</td>\n",
       "      <td>2024-01-16T16:49:05</td>\n",
       "    </tr>\n",
       "    <tr>\n",
       "      <th>0</th>\n",
       "      <td>1196858748996694236</td>\n",
       "      <td>1191764926793011233</td>\n",
       "      <td>mina_69355</td>\n",
       "      <td>FAUT qu'on ecrit un max de messages</td>\n",
       "      <td>text</td>\n",
       "      <td>non haineux</td>\n",
       "      <td>0.863178</td>\n",
       "      <td>2024-01-16T16:49:22</td>\n",
       "    </tr>\n",
       "  </tbody>\n",
       "</table>\n",
       "</div>"
      ],
      "text/plain": [
       "                msg_id           channel_id     user_id  \\\n",
       "4  1196847175108399125  1191764926793011233   neila0447   \n",
       "3  1196853381394878515  1191764926793011233   neila0447   \n",
       "2  1196858645539999837  1191764926793011233  mina_69355   \n",
       "1  1196858677685137539  1191764926793011233  mina_69355   \n",
       "0  1196858748996694236  1191764926793011233  mina_69355   \n",
       "\n",
       "                                           msg msg_type        label  \\\n",
       "4                              Hello , tu pues     text      haineux   \n",
       "3  C’est un message test je ne vise personne 😋     text  non haineux   \n",
       "2                               tktt neilouche     text      haineux   \n",
       "1                                   on sait ❤️     text  non haineux   \n",
       "0          FAUT qu'on ecrit un max de messages     text  non haineux   \n",
       "\n",
       "      score                 date  \n",
       "4  0.981475  2024-01-16T16:03:22  \n",
       "3  0.988774  2024-01-16T16:28:02  \n",
       "2  0.970753  2024-01-16T16:48:57  \n",
       "1  0.777469  2024-01-16T16:49:05  \n",
       "0  0.863178  2024-01-16T16:49:22  "
      ]
     },
     "execution_count": 2,
     "metadata": {},
     "output_type": "execute_result"
    }
   ],
   "source": [
    "# Create your connection\n",
    "DATABASE_FILE = \"../data/database/discord.db\"\n",
    "connection = sqlite3.connect(DATABASE_FILE)\n",
    "\n",
    "df = pd.read_sql_query(\"SELECT * FROM messages\", connection)\n",
    "df.sort_values(by=['date'], ascending=True).tail(5)"
   ]
  },
  {
   "cell_type": "code",
   "execution_count": 3,
   "metadata": {},
   "outputs": [],
   "source": [
    "df.sort_values(by=['date'], ascending=True).to_csv(\"../data/database/discord.tsv\", sep=\"\\t\", index=False)"
   ]
  },
  {
   "cell_type": "code",
   "execution_count": 5,
   "metadata": {},
   "outputs": [
    {
     "data": {
      "text/html": [
       "<div>\n",
       "<style scoped>\n",
       "    .dataframe tbody tr th:only-of-type {\n",
       "        vertical-align: middle;\n",
       "    }\n",
       "\n",
       "    .dataframe tbody tr th {\n",
       "        vertical-align: top;\n",
       "    }\n",
       "\n",
       "    .dataframe thead th {\n",
       "        text-align: right;\n",
       "    }\n",
       "</style>\n",
       "<table border=\"1\" class=\"dataframe\">\n",
       "  <thead>\n",
       "    <tr style=\"text-align: right;\">\n",
       "      <th></th>\n",
       "      <th>channel_id</th>\n",
       "      <th>name</th>\n",
       "      <th>num_users</th>\n",
       "    </tr>\n",
       "  </thead>\n",
       "  <tbody>\n",
       "    <tr>\n",
       "      <th>0</th>\n",
       "      <td>1191764926793011233</td>\n",
       "      <td>general</td>\n",
       "      <td>1</td>\n",
       "    </tr>\n",
       "  </tbody>\n",
       "</table>\n",
       "</div>"
      ],
      "text/plain": [
       "            channel_id     name  num_users\n",
       "0  1191764926793011233  general          1"
      ]
     },
     "execution_count": 5,
     "metadata": {},
     "output_type": "execute_result"
    }
   ],
   "source": [
    "df = pd.read_sql_query(\"SELECT * FROM channels\", connection)\n",
    "df.tail(5)"
   ]
  }
 ],
 "metadata": {
  "kernelspec": {
   "display_name": "mad-env",
   "language": "python",
   "name": "python3"
  },
  "language_info": {
   "codemirror_mode": {
    "name": "ipython",
    "version": 3
   },
   "file_extension": ".py",
   "mimetype": "text/x-python",
   "name": "python",
   "nbconvert_exporter": "python",
   "pygments_lexer": "ipython3",
   "version": "3.10.13"
  }
 },
 "nbformat": 4,
 "nbformat_minor": 2
}
