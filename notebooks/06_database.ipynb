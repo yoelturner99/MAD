{
 "cells": [
  {
   "cell_type": "code",
   "execution_count": 1,
   "metadata": {},
   "outputs": [],
   "source": [
    "import sqlite3\n",
    "import pandas as pd\n",
    "\n",
    "# Il interprete mal les smileys\n",
    "# Le modele est vraiment binaire (Detecte pas les nuances e.g. sarcasmes etc...)\n",
    "# Si il y a des messages successifs d'un utilisateur, concatener les messages pour avoir le contexte"
   ]
  },
  {
   "cell_type": "code",
   "execution_count": 2,
   "metadata": {},
   "outputs": [
    {
     "data": {
      "text/html": [
       "<div>\n",
       "<style scoped>\n",
       "    .dataframe tbody tr th:only-of-type {\n",
       "        vertical-align: middle;\n",
       "    }\n",
       "\n",
       "    .dataframe tbody tr th {\n",
       "        vertical-align: top;\n",
       "    }\n",
       "\n",
       "    .dataframe thead th {\n",
       "        text-align: right;\n",
       "    }\n",
       "</style>\n",
       "<table border=\"1\" class=\"dataframe\">\n",
       "  <thead>\n",
       "    <tr style=\"text-align: right;\">\n",
       "      <th></th>\n",
       "      <th>msg_id</th>\n",
       "      <th>channel_id</th>\n",
       "      <th>user_id</th>\n",
       "      <th>msg</th>\n",
       "      <th>msg_type</th>\n",
       "      <th>label</th>\n",
       "      <th>score</th>\n",
       "      <th>date</th>\n",
       "    </tr>\n",
       "  </thead>\n",
       "  <tbody>\n",
       "    <tr>\n",
       "      <th>156</th>\n",
       "      <td>1198982416061173850</td>\n",
       "      <td>1191764926793011233</td>\n",
       "      <td>yoel_turner</td>\n",
       "      <td>*** Je fais des tests en passant xD</td>\n",
       "      <td>text</td>\n",
       "      <td>non haineux</td>\n",
       "      <td>0.994814</td>\n",
       "      <td>2024-01-22T13:28:04</td>\n",
       "    </tr>\n",
       "    <tr>\n",
       "      <th>157</th>\n",
       "      <td>1198983433922281592</td>\n",
       "      <td>1191764926793011233</td>\n",
       "      <td>neila0447</td>\n",
       "      <td>😂😂😂😂😂</td>\n",
       "      <td>text</td>\n",
       "      <td>non haineux</td>\n",
       "      <td>0.998942</td>\n",
       "      <td>2024-01-22T13:32:06</td>\n",
       "    </tr>\n",
       "    <tr>\n",
       "      <th>158</th>\n",
       "      <td>1198983511701458975</td>\n",
       "      <td>1191764926793011233</td>\n",
       "      <td>neila0447</td>\n",
       "      <td>Oh mais putain c’est quoi ce langue #test</td>\n",
       "      <td>text</td>\n",
       "      <td>non haineux</td>\n",
       "      <td>0.574531</td>\n",
       "      <td>2024-01-22T13:32:25</td>\n",
       "    </tr>\n",
       "    <tr>\n",
       "      <th>160</th>\n",
       "      <td>1198983741511581806</td>\n",
       "      <td>1191764926793011233</td>\n",
       "      <td>neila0447</td>\n",
       "      <td>Language</td>\n",
       "      <td>text</td>\n",
       "      <td>non haineux</td>\n",
       "      <td>0.985503</td>\n",
       "      <td>2024-01-22T13:33:20</td>\n",
       "    </tr>\n",
       "    <tr>\n",
       "      <th>159</th>\n",
       "      <td>1198983768678080602</td>\n",
       "      <td>1191764926793011233</td>\n",
       "      <td>neila0447</td>\n",
       "      <td>Ça va</td>\n",
       "      <td>text</td>\n",
       "      <td>non haineux</td>\n",
       "      <td>0.936554</td>\n",
       "      <td>2024-01-22T13:33:26</td>\n",
       "    </tr>\n",
       "  </tbody>\n",
       "</table>\n",
       "</div>"
      ],
      "text/plain": [
       "                  msg_id           channel_id      user_id  \\\n",
       "156  1198982416061173850  1191764926793011233  yoel_turner   \n",
       "157  1198983433922281592  1191764926793011233    neila0447   \n",
       "158  1198983511701458975  1191764926793011233    neila0447   \n",
       "160  1198983741511581806  1191764926793011233    neila0447   \n",
       "159  1198983768678080602  1191764926793011233    neila0447   \n",
       "\n",
       "                                           msg msg_type        label  \\\n",
       "156        *** Je fais des tests en passant xD     text  non haineux   \n",
       "157                                      😂😂😂😂😂     text  non haineux   \n",
       "158  Oh mais putain c’est quoi ce langue #test     text  non haineux   \n",
       "160                                   Language     text  non haineux   \n",
       "159                                     Ça va      text  non haineux   \n",
       "\n",
       "        score                 date  \n",
       "156  0.994814  2024-01-22T13:28:04  \n",
       "157  0.998942  2024-01-22T13:32:06  \n",
       "158  0.574531  2024-01-22T13:32:25  \n",
       "160  0.985503  2024-01-22T13:33:20  \n",
       "159  0.936554  2024-01-22T13:33:26  "
      ]
     },
     "execution_count": 2,
     "metadata": {},
     "output_type": "execute_result"
    }
   ],
   "source": [
    "# Create your connection\n",
    "DATABASE_FILE = \"../data/database/discord.db\"\n",
    "connection = sqlite3.connect(DATABASE_FILE)\n",
    "\n",
    "df = pd.read_sql_query(\"SELECT * FROM messages\", connection)\n",
    "df.sort_values(by=['date'], ascending=True).tail(5)"
   ]
  },
  {
   "cell_type": "code",
   "execution_count": 3,
   "metadata": {},
   "outputs": [],
   "source": [
    "df.sort_values(by=['date'], ascending=True).to_csv(\"../data/database/discord.tsv\", sep=\"\\t\", index=False)"
   ]
  },
  {
   "cell_type": "code",
   "execution_count": 5,
   "metadata": {},
   "outputs": [
    {
     "data": {
      "text/html": [
       "<div>\n",
       "<style scoped>\n",
       "    .dataframe tbody tr th:only-of-type {\n",
       "        vertical-align: middle;\n",
       "    }\n",
       "\n",
       "    .dataframe tbody tr th {\n",
       "        vertical-align: top;\n",
       "    }\n",
       "\n",
       "    .dataframe thead th {\n",
       "        text-align: right;\n",
       "    }\n",
       "</style>\n",
       "<table border=\"1\" class=\"dataframe\">\n",
       "  <thead>\n",
       "    <tr style=\"text-align: right;\">\n",
       "      <th></th>\n",
       "      <th>channel_id</th>\n",
       "      <th>name</th>\n",
       "      <th>num_users</th>\n",
       "    </tr>\n",
       "  </thead>\n",
       "  <tbody>\n",
       "    <tr>\n",
       "      <th>0</th>\n",
       "      <td>1191764926793011233</td>\n",
       "      <td>general</td>\n",
       "      <td>1</td>\n",
       "    </tr>\n",
       "  </tbody>\n",
       "</table>\n",
       "</div>"
      ],
      "text/plain": [
       "            channel_id     name  num_users\n",
       "0  1191764926793011233  general          1"
      ]
     },
     "execution_count": 5,
     "metadata": {},
     "output_type": "execute_result"
    }
   ],
   "source": [
    "df = pd.read_sql_query(\"SELECT * FROM channels\", connection)\n",
    "df.tail(5)"
   ]
  }
 ],
 "metadata": {
  "kernelspec": {
   "display_name": "mad-env",
   "language": "python",
   "name": "python3"
  },
  "language_info": {
   "codemirror_mode": {
    "name": "ipython",
    "version": 3
   },
   "file_extension": ".py",
   "mimetype": "text/x-python",
   "name": "python",
   "nbconvert_exporter": "python",
   "pygments_lexer": "ipython3",
   "version": "3.10.13"
  }
 },
 "nbformat": 4,
 "nbformat_minor": 2
}
