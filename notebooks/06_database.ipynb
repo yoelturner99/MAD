{
 "cells": [
  {
   "cell_type": "code",
   "execution_count": 1,
   "metadata": {},
   "outputs": [],
   "source": [
    "import sqlite3\n",
    "import pandas as pd\n",
    "\n",
    "# Il interprete mal les smileys\n",
    "# Le modele est vraiment binaire (Detecte pas les nuances e.g. sarcasmes etc...)\n",
    "# Si il y a des messages successifs d'un utilisateur, concatener les messages pour avoir le contexte"
   ]
  },
  {
   "cell_type": "code",
   "execution_count": 5,
   "metadata": {},
   "outputs": [
    {
     "data": {
      "text/html": [
       "<div>\n",
       "<style scoped>\n",
       "    .dataframe tbody tr th:only-of-type {\n",
       "        vertical-align: middle;\n",
       "    }\n",
       "\n",
       "    .dataframe tbody tr th {\n",
       "        vertical-align: top;\n",
       "    }\n",
       "\n",
       "    .dataframe thead th {\n",
       "        text-align: right;\n",
       "    }\n",
       "</style>\n",
       "<table border=\"1\" class=\"dataframe\">\n",
       "  <thead>\n",
       "    <tr style=\"text-align: right;\">\n",
       "      <th></th>\n",
       "      <th>msg_id</th>\n",
       "      <th>channel_id</th>\n",
       "      <th>user_id</th>\n",
       "      <th>msg</th>\n",
       "      <th>msg_type</th>\n",
       "      <th>label</th>\n",
       "      <th>score</th>\n",
       "      <th>date</th>\n",
       "    </tr>\n",
       "  </thead>\n",
       "  <tbody>\n",
       "    <tr>\n",
       "      <th>2</th>\n",
       "      <td>1202978882429657088</td>\n",
       "      <td>1200499146977710254</td>\n",
       "      <td>yoel_turner</td>\n",
       "      <td>Ta gueule</td>\n",
       "      <td>text</td>\n",
       "      <td>haineux</td>\n",
       "      <td>0.967089</td>\n",
       "      <td>2024-02-02T14:08:35</td>\n",
       "    </tr>\n",
       "    <tr>\n",
       "      <th>1</th>\n",
       "      <td>1202979610917208065</td>\n",
       "      <td>1200499146977710254</td>\n",
       "      <td>yoel_turner</td>\n",
       "      <td>Wal le fils de pute la je nique sa mère moi l'...</td>\n",
       "      <td>text</td>\n",
       "      <td>haineux</td>\n",
       "      <td>0.988330</td>\n",
       "      <td>2024-02-02T14:11:29</td>\n",
       "    </tr>\n",
       "    <tr>\n",
       "      <th>0</th>\n",
       "      <td>1202981204639350854</td>\n",
       "      <td>1200499146977710254</td>\n",
       "      <td>yoel_turner</td>\n",
       "      <td>Wala le fils de pute la je nique sa mère moi l...</td>\n",
       "      <td>text</td>\n",
       "      <td>haineux</td>\n",
       "      <td>0.990562</td>\n",
       "      <td>2024-02-02T14:17:49</td>\n",
       "    </tr>\n",
       "    <tr>\n",
       "      <th>40</th>\n",
       "      <td>1202996291257499728</td>\n",
       "      <td>1200499146977710254</td>\n",
       "      <td>yoel_turner</td>\n",
       "      <td>Va chier enfoiré</td>\n",
       "      <td>text</td>\n",
       "      <td>haineux</td>\n",
       "      <td>0.796808</td>\n",
       "      <td>2024-02-02T15:17:46</td>\n",
       "    </tr>\n",
       "    <tr>\n",
       "      <th>41</th>\n",
       "      <td>1202996500523655199</td>\n",
       "      <td>1200499146977710254</td>\n",
       "      <td>yoel_turner</td>\n",
       "      <td>vas-y je t'emmerde enculé</td>\n",
       "      <td>vocal</td>\n",
       "      <td>haineux</td>\n",
       "      <td>0.957492</td>\n",
       "      <td>2024-02-02T15:18:36</td>\n",
       "    </tr>\n",
       "  </tbody>\n",
       "</table>\n",
       "</div>"
      ],
      "text/plain": [
       "                 msg_id           channel_id      user_id  \\\n",
       "2   1202978882429657088  1200499146977710254  yoel_turner   \n",
       "1   1202979610917208065  1200499146977710254  yoel_turner   \n",
       "0   1202981204639350854  1200499146977710254  yoel_turner   \n",
       "40  1202996291257499728  1200499146977710254  yoel_turner   \n",
       "41  1202996500523655199  1200499146977710254  yoel_turner   \n",
       "\n",
       "                                                  msg msg_type    label  \\\n",
       "2                                           Ta gueule     text  haineux   \n",
       "1   Wal le fils de pute la je nique sa mère moi l'...     text  haineux   \n",
       "0   Wala le fils de pute la je nique sa mère moi l...     text  haineux   \n",
       "40                                   Va chier enfoiré     text  haineux   \n",
       "41                          vas-y je t'emmerde enculé    vocal  haineux   \n",
       "\n",
       "       score                 date  \n",
       "2   0.967089  2024-02-02T14:08:35  \n",
       "1   0.988330  2024-02-02T14:11:29  \n",
       "0   0.990562  2024-02-02T14:17:49  \n",
       "40  0.796808  2024-02-02T15:17:46  \n",
       "41  0.957492  2024-02-02T15:18:36  "
      ]
     },
     "execution_count": 5,
     "metadata": {},
     "output_type": "execute_result"
    }
   ],
   "source": [
    "# Create your connection\n",
    "DATABASE_FILE = \"../data/database/discord.db\"\n",
    "connection = sqlite3.connect(DATABASE_FILE)\n",
    "\n",
    "df = pd.read_sql_query(\"SELECT * FROM messages\", connection)\n",
    "df.sort_values(by=['date'], ascending=True).tail(5)"
   ]
  },
  {
   "cell_type": "code",
   "execution_count": 3,
   "metadata": {},
   "outputs": [],
   "source": [
    "df.sort_values(by=['date'], ascending=True).to_csv(\"../data/database/discord.tsv\", sep=\"\\t\", index=False)"
   ]
  },
  {
   "cell_type": "code",
   "execution_count": 9,
   "metadata": {},
   "outputs": [
    {
     "data": {
      "text/html": [
       "<div>\n",
       "<style scoped>\n",
       "    .dataframe tbody tr th:only-of-type {\n",
       "        vertical-align: middle;\n",
       "    }\n",
       "\n",
       "    .dataframe tbody tr th {\n",
       "        vertical-align: top;\n",
       "    }\n",
       "\n",
       "    .dataframe thead th {\n",
       "        text-align: right;\n",
       "    }\n",
       "</style>\n",
       "<table border=\"1\" class=\"dataframe\">\n",
       "  <thead>\n",
       "    <tr style=\"text-align: right;\">\n",
       "      <th></th>\n",
       "      <th>channel_id</th>\n",
       "      <th>name</th>\n",
       "      <th>num_users</th>\n",
       "    </tr>\n",
       "  </thead>\n",
       "  <tbody>\n",
       "    <tr>\n",
       "      <th>0</th>\n",
       "      <td>1200499146977710254</td>\n",
       "      <td>general</td>\n",
       "      <td>1</td>\n",
       "    </tr>\n",
       "  </tbody>\n",
       "</table>\n",
       "</div>"
      ],
      "text/plain": [
       "            channel_id     name  num_users\n",
       "0  1200499146977710254  general          1"
      ]
     },
     "execution_count": 9,
     "metadata": {},
     "output_type": "execute_result"
    }
   ],
   "source": [
    "df = pd.read_sql_query(\"SELECT * FROM channels\", connection)\n",
    "df.tail(5)"
   ]
  }
 ],
 "metadata": {
  "kernelspec": {
   "display_name": "mad-env",
   "language": "python",
   "name": "python3"
  },
  "language_info": {
   "codemirror_mode": {
    "name": "ipython",
    "version": 3
   },
   "file_extension": ".py",
   "mimetype": "text/x-python",
   "name": "python",
   "nbconvert_exporter": "python",
   "pygments_lexer": "ipython3",
   "version": "3.10.13"
  }
 },
 "nbformat": 4,
 "nbformat_minor": 2
}
