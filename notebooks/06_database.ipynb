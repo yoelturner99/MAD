{
 "cells": [
  {
   "cell_type": "code",
   "execution_count": 1,
   "metadata": {},
   "outputs": [],
   "source": [
    "import sqlite3\n",
    "import pandas as pd\n",
    "\n",
    "# Il interprete mal les smileys\n",
    "# Le modele est vraiment binaire (Detecte pas les nuances e.g. sarcasmes etc...)"
   ]
  },
  {
   "cell_type": "code",
   "execution_count": 2,
   "metadata": {},
   "outputs": [
    {
     "data": {
      "text/html": [
       "<div>\n",
       "<style scoped>\n",
       "    .dataframe tbody tr th:only-of-type {\n",
       "        vertical-align: middle;\n",
       "    }\n",
       "\n",
       "    .dataframe tbody tr th {\n",
       "        vertical-align: top;\n",
       "    }\n",
       "\n",
       "    .dataframe thead th {\n",
       "        text-align: right;\n",
       "    }\n",
       "</style>\n",
       "<table border=\"1\" class=\"dataframe\">\n",
       "  <thead>\n",
       "    <tr style=\"text-align: right;\">\n",
       "      <th></th>\n",
       "      <th>msg_id</th>\n",
       "      <th>channel_id</th>\n",
       "      <th>user_id</th>\n",
       "      <th>msg</th>\n",
       "      <th>msg_type</th>\n",
       "      <th>label</th>\n",
       "      <th>score</th>\n",
       "      <th>date</th>\n",
       "    </tr>\n",
       "  </thead>\n",
       "  <tbody>\n",
       "    <tr>\n",
       "      <th>4</th>\n",
       "      <td>1193204733561802812</td>\n",
       "      <td>1191764926793011233</td>\n",
       "      <td>yoel_turner</td>\n",
       "      <td>salut je m'appelle yohann et je t'emmerde espè...</td>\n",
       "      <td>audio</td>\n",
       "      <td>haineux</td>\n",
       "      <td>0.996198</td>\n",
       "      <td>2024-01-06T14:49:37</td>\n",
       "    </tr>\n",
       "    <tr>\n",
       "      <th>3</th>\n",
       "      <td>1193210797426483341</td>\n",
       "      <td>1191764926793011233</td>\n",
       "      <td>yoel_turner</td>\n",
       "      <td>salut je m'appelle Joël et toi comment tu t'ap...</td>\n",
       "      <td>audio</td>\n",
       "      <td>non haineux</td>\n",
       "      <td>0.781409</td>\n",
       "      <td>2024-01-06T15:13:42</td>\n",
       "    </tr>\n",
       "    <tr>\n",
       "      <th>2</th>\n",
       "      <td>1193210933993017354</td>\n",
       "      <td>1191764926793011233</td>\n",
       "      <td>yoel_turner</td>\n",
       "      <td>je t'emmerde espèce de fils de pute</td>\n",
       "      <td>audio</td>\n",
       "      <td>haineux</td>\n",
       "      <td>0.997227</td>\n",
       "      <td>2024-01-06T15:14:15</td>\n",
       "    </tr>\n",
       "    <tr>\n",
       "      <th>1</th>\n",
       "      <td>1193211629035331664</td>\n",
       "      <td>1191764926793011233</td>\n",
       "      <td>yoel_turner</td>\n",
       "      <td>espèce d'enculé</td>\n",
       "      <td>audio</td>\n",
       "      <td>haineux</td>\n",
       "      <td>0.690973</td>\n",
       "      <td>2024-01-06T15:17:01</td>\n",
       "    </tr>\n",
       "    <tr>\n",
       "      <th>0</th>\n",
       "      <td>1193289331788496966</td>\n",
       "      <td>1191764926793011233</td>\n",
       "      <td>yoel_turner</td>\n",
       "      <td>est-ce que tu veux et tout il a dit</td>\n",
       "      <td>audio</td>\n",
       "      <td>non haineux</td>\n",
       "      <td>0.853759</td>\n",
       "      <td>2024-01-06T20:25:46</td>\n",
       "    </tr>\n",
       "  </tbody>\n",
       "</table>\n",
       "</div>"
      ],
      "text/plain": [
       "                msg_id           channel_id      user_id  \\\n",
       "4  1193204733561802812  1191764926793011233  yoel_turner   \n",
       "3  1193210797426483341  1191764926793011233  yoel_turner   \n",
       "2  1193210933993017354  1191764926793011233  yoel_turner   \n",
       "1  1193211629035331664  1191764926793011233  yoel_turner   \n",
       "0  1193289331788496966  1191764926793011233  yoel_turner   \n",
       "\n",
       "                                                 msg msg_type        label  \\\n",
       "4  salut je m'appelle yohann et je t'emmerde espè...    audio      haineux   \n",
       "3  salut je m'appelle Joël et toi comment tu t'ap...    audio  non haineux   \n",
       "2                je t'emmerde espèce de fils de pute    audio      haineux   \n",
       "1                                    espèce d'enculé    audio      haineux   \n",
       "0                est-ce que tu veux et tout il a dit    audio  non haineux   \n",
       "\n",
       "      score                 date  \n",
       "4  0.996198  2024-01-06T14:49:37  \n",
       "3  0.781409  2024-01-06T15:13:42  \n",
       "2  0.997227  2024-01-06T15:14:15  \n",
       "1  0.690973  2024-01-06T15:17:01  \n",
       "0  0.853759  2024-01-06T20:25:46  "
      ]
     },
     "execution_count": 2,
     "metadata": {},
     "output_type": "execute_result"
    }
   ],
   "source": [
    "# Create your connection\n",
    "DATABASE_FILE = \"../data/database/discord.db\"\n",
    "connection = sqlite3.connect(DATABASE_FILE)\n",
    "\n",
    "df = pd.read_sql_query(\"SELECT * FROM messages\", connection)\n",
    "df.sort_values(by=['date'], ascending=True).tail(5)"
   ]
  },
  {
   "cell_type": "code",
   "execution_count": 3,
   "metadata": {},
   "outputs": [],
   "source": [
    "df.sort_values(by=['date'], ascending=True).to_csv(\"../data/database/discord.tsv\", sep=\"\\t\", index=False)"
   ]
  },
  {
   "cell_type": "code",
   "execution_count": 5,
   "metadata": {},
   "outputs": [
    {
     "data": {
      "text/html": [
       "<div>\n",
       "<style scoped>\n",
       "    .dataframe tbody tr th:only-of-type {\n",
       "        vertical-align: middle;\n",
       "    }\n",
       "\n",
       "    .dataframe tbody tr th {\n",
       "        vertical-align: top;\n",
       "    }\n",
       "\n",
       "    .dataframe thead th {\n",
       "        text-align: right;\n",
       "    }\n",
       "</style>\n",
       "<table border=\"1\" class=\"dataframe\">\n",
       "  <thead>\n",
       "    <tr style=\"text-align: right;\">\n",
       "      <th></th>\n",
       "      <th>channel_id</th>\n",
       "      <th>name</th>\n",
       "      <th>num_users</th>\n",
       "    </tr>\n",
       "  </thead>\n",
       "  <tbody>\n",
       "    <tr>\n",
       "      <th>0</th>\n",
       "      <td>1191764926793011233</td>\n",
       "      <td>general</td>\n",
       "      <td>1</td>\n",
       "    </tr>\n",
       "  </tbody>\n",
       "</table>\n",
       "</div>"
      ],
      "text/plain": [
       "            channel_id     name  num_users\n",
       "0  1191764926793011233  general          1"
      ]
     },
     "execution_count": 5,
     "metadata": {},
     "output_type": "execute_result"
    }
   ],
   "source": [
    "df = pd.read_sql_query(\"SELECT * FROM channels\", connection)\n",
    "df.tail(5)"
   ]
  }
 ],
 "metadata": {
  "kernelspec": {
   "display_name": "mad-env",
   "language": "python",
   "name": "python3"
  },
  "language_info": {
   "codemirror_mode": {
    "name": "ipython",
    "version": 3
   },
   "file_extension": ".py",
   "mimetype": "text/x-python",
   "name": "python",
   "nbconvert_exporter": "python",
   "pygments_lexer": "ipython3",
   "version": "3.10.13"
  }
 },
 "nbformat": 4,
 "nbformat_minor": 2
}
