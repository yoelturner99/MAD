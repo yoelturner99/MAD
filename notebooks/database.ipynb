{
 "cells": [
  {
   "cell_type": "code",
   "execution_count": 1,
   "metadata": {},
   "outputs": [],
   "source": [
    "import sqlite3\n",
    "import pandas as pd\n",
    "\n",
    "# Il interprete mal les smileys\n",
    "# Le modele est vraiment binaire (Detecte pas les nuances e.g. sarcasmes etc...)"
   ]
  },
  {
   "cell_type": "code",
   "execution_count": 22,
   "metadata": {},
   "outputs": [
    {
     "data": {
      "text/html": [
       "<div>\n",
       "<style scoped>\n",
       "    .dataframe tbody tr th:only-of-type {\n",
       "        vertical-align: middle;\n",
       "    }\n",
       "\n",
       "    .dataframe tbody tr th {\n",
       "        vertical-align: top;\n",
       "    }\n",
       "\n",
       "    .dataframe thead th {\n",
       "        text-align: right;\n",
       "    }\n",
       "</style>\n",
       "<table border=\"1\" class=\"dataframe\">\n",
       "  <thead>\n",
       "    <tr style=\"text-align: right;\">\n",
       "      <th></th>\n",
       "      <th>msg_id</th>\n",
       "      <th>channel_id</th>\n",
       "      <th>user_id</th>\n",
       "      <th>msg</th>\n",
       "      <th>label</th>\n",
       "      <th>score</th>\n",
       "      <th>date</th>\n",
       "    </tr>\n",
       "  </thead>\n",
       "  <tbody>\n",
       "    <tr>\n",
       "      <th>46</th>\n",
       "      <td>1193125923927642112</td>\n",
       "      <td>1191764926793011233</td>\n",
       "      <td>yoel_turner</td>\n",
       "      <td>Ah t'es hyper cool toi, t'es mon meilleur ami</td>\n",
       "      <td>non-hateful</td>\n",
       "      <td>0.708033</td>\n",
       "      <td>2024-01-06T09:36:27</td>\n",
       "    </tr>\n",
       "    <tr>\n",
       "      <th>47</th>\n",
       "      <td>1193126067012120607</td>\n",
       "      <td>1191764926793011233</td>\n",
       "      <td>yoel_turner</td>\n",
       "      <td>Ah t'es hyper cool toi, t'es mon meilleur ami 😄</td>\n",
       "      <td>non-hateful</td>\n",
       "      <td>0.758525</td>\n",
       "      <td>2024-01-06T09:37:01</td>\n",
       "    </tr>\n",
       "    <tr>\n",
       "      <th>48</th>\n",
       "      <td>1193126194065965117</td>\n",
       "      <td>1191764926793011233</td>\n",
       "      <td>yoel_turner</td>\n",
       "      <td>Ah t'es hyper cool toi, t'es mon meilleur ami ...</td>\n",
       "      <td>hateful</td>\n",
       "      <td>0.976358</td>\n",
       "      <td>2024-01-06T09:37:31</td>\n",
       "    </tr>\n",
       "    <tr>\n",
       "      <th>49</th>\n",
       "      <td>1193127258135724032</td>\n",
       "      <td>1191764926793011233</td>\n",
       "      <td>yoel_turner</td>\n",
       "      <td>Espèce de gentil</td>\n",
       "      <td>non-hateful</td>\n",
       "      <td>0.613917</td>\n",
       "      <td>2024-01-06T09:41:45</td>\n",
       "    </tr>\n",
       "    <tr>\n",
       "      <th>50</th>\n",
       "      <td>1193130077739819038</td>\n",
       "      <td>1191764926793011233</td>\n",
       "      <td>yoel_turner</td>\n",
       "      <td>🤬</td>\n",
       "      <td>non-hateful</td>\n",
       "      <td>0.998942</td>\n",
       "      <td>2024-01-06T09:52:57</td>\n",
       "    </tr>\n",
       "  </tbody>\n",
       "</table>\n",
       "</div>"
      ],
      "text/plain": [
       "                 msg_id           channel_id      user_id  \\\n",
       "46  1193125923927642112  1191764926793011233  yoel_turner   \n",
       "47  1193126067012120607  1191764926793011233  yoel_turner   \n",
       "48  1193126194065965117  1191764926793011233  yoel_turner   \n",
       "49  1193127258135724032  1191764926793011233  yoel_turner   \n",
       "50  1193130077739819038  1191764926793011233  yoel_turner   \n",
       "\n",
       "                                                  msg        label     score  \\\n",
       "46      Ah t'es hyper cool toi, t'es mon meilleur ami  non-hateful  0.708033   \n",
       "47    Ah t'es hyper cool toi, t'es mon meilleur ami 😄  non-hateful  0.758525   \n",
       "48  Ah t'es hyper cool toi, t'es mon meilleur ami ...      hateful  0.976358   \n",
       "49                                   Espèce de gentil  non-hateful  0.613917   \n",
       "50                                                  🤬  non-hateful  0.998942   \n",
       "\n",
       "                   date  \n",
       "46  2024-01-06T09:36:27  \n",
       "47  2024-01-06T09:37:01  \n",
       "48  2024-01-06T09:37:31  \n",
       "49  2024-01-06T09:41:45  \n",
       "50  2024-01-06T09:52:57  "
      ]
     },
     "execution_count": 22,
     "metadata": {},
     "output_type": "execute_result"
    }
   ],
   "source": [
    "# Create your connection\n",
    "DATABASE_FILE = \"../data/database/discord.db\"\n",
    "connection = sqlite3.connect(DATABASE_FILE)\n",
    "\n",
    "df = pd.read_sql_query(\"SELECT * FROM messages\", connection)\n",
    "df.tail(5).sort_values(by=['date'])"
   ]
  },
  {
   "cell_type": "code",
   "execution_count": 5,
   "metadata": {},
   "outputs": [
    {
     "data": {
      "text/html": [
       "<div>\n",
       "<style scoped>\n",
       "    .dataframe tbody tr th:only-of-type {\n",
       "        vertical-align: middle;\n",
       "    }\n",
       "\n",
       "    .dataframe tbody tr th {\n",
       "        vertical-align: top;\n",
       "    }\n",
       "\n",
       "    .dataframe thead th {\n",
       "        text-align: right;\n",
       "    }\n",
       "</style>\n",
       "<table border=\"1\" class=\"dataframe\">\n",
       "  <thead>\n",
       "    <tr style=\"text-align: right;\">\n",
       "      <th></th>\n",
       "      <th>channel_id</th>\n",
       "      <th>name</th>\n",
       "      <th>num_users</th>\n",
       "    </tr>\n",
       "  </thead>\n",
       "  <tbody>\n",
       "    <tr>\n",
       "      <th>0</th>\n",
       "      <td>1191764926793011233</td>\n",
       "      <td>general</td>\n",
       "      <td>1</td>\n",
       "    </tr>\n",
       "  </tbody>\n",
       "</table>\n",
       "</div>"
      ],
      "text/plain": [
       "            channel_id     name  num_users\n",
       "0  1191764926793011233  general          1"
      ]
     },
     "execution_count": 5,
     "metadata": {},
     "output_type": "execute_result"
    }
   ],
   "source": [
    "df = pd.read_sql_query(\"SELECT * FROM channels\", connection)\n",
    "df.tail(5)"
   ]
  }
 ],
 "metadata": {
  "kernelspec": {
   "display_name": "mad-env",
   "language": "python",
   "name": "python3"
  },
  "language_info": {
   "codemirror_mode": {
    "name": "ipython",
    "version": 3
   },
   "file_extension": ".py",
   "mimetype": "text/x-python",
   "name": "python",
   "nbconvert_exporter": "python",
   "pygments_lexer": "ipython3",
   "version": "3.10.13"
  }
 },
 "nbformat": 4,
 "nbformat_minor": 2
}
