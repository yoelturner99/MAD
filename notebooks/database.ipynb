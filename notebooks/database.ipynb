{
 "cells": [
  {
   "cell_type": "code",
   "execution_count": 1,
   "metadata": {},
   "outputs": [],
   "source": [
    "import sqlite3\n",
    "import pandas as pd"
   ]
  },
  {
   "cell_type": "code",
   "execution_count": 4,
   "metadata": {},
   "outputs": [
    {
     "data": {
      "text/html": [
       "<div>\n",
       "<style scoped>\n",
       "    .dataframe tbody tr th:only-of-type {\n",
       "        vertical-align: middle;\n",
       "    }\n",
       "\n",
       "    .dataframe tbody tr th {\n",
       "        vertical-align: top;\n",
       "    }\n",
       "\n",
       "    .dataframe thead th {\n",
       "        text-align: right;\n",
       "    }\n",
       "</style>\n",
       "<table border=\"1\" class=\"dataframe\">\n",
       "  <thead>\n",
       "    <tr style=\"text-align: right;\">\n",
       "      <th></th>\n",
       "      <th>msg_id</th>\n",
       "      <th>channel_id</th>\n",
       "      <th>user_id</th>\n",
       "      <th>msg</th>\n",
       "      <th>label</th>\n",
       "      <th>score</th>\n",
       "      <th>date</th>\n",
       "    </tr>\n",
       "  </thead>\n",
       "  <tbody>\n",
       "    <tr>\n",
       "      <th>25</th>\n",
       "      <td>1192158031958519839</td>\n",
       "      <td>1191764926793011233</td>\n",
       "      <td>yoel_turner</td>\n",
       "      <td>va te faire foutre</td>\n",
       "      <td>hateful</td>\n",
       "      <td>0.943021</td>\n",
       "      <td>2024-01-03T17:30:24</td>\n",
       "    </tr>\n",
       "    <tr>\n",
       "      <th>26</th>\n",
       "      <td>1192170456090943618</td>\n",
       "      <td>1191764926793011233</td>\n",
       "      <td>yoel_turner</td>\n",
       "      <td>Yo mec</td>\n",
       "      <td>non-hateful</td>\n",
       "      <td>0.973044</td>\n",
       "      <td>2024-01-03T18:19:46</td>\n",
       "    </tr>\n",
       "    <tr>\n",
       "      <th>27</th>\n",
       "      <td>1192170489918017536</td>\n",
       "      <td>1191764926793011233</td>\n",
       "      <td>yoel_turner</td>\n",
       "      <td>C'est quand que tu viens chez moi?</td>\n",
       "      <td>non-hateful</td>\n",
       "      <td>0.918370</td>\n",
       "      <td>2024-01-03T18:19:54</td>\n",
       "    </tr>\n",
       "    <tr>\n",
       "      <th>28</th>\n",
       "      <td>1192170557500837958</td>\n",
       "      <td>1191764926793011233</td>\n",
       "      <td>yoel_turner</td>\n",
       "      <td>Je te jure que si tu m'enerves je vais te tuer</td>\n",
       "      <td>non-hateful</td>\n",
       "      <td>0.813966</td>\n",
       "      <td>2024-01-03T18:20:10</td>\n",
       "    </tr>\n",
       "    <tr>\n",
       "      <th>29</th>\n",
       "      <td>1192170574840082492</td>\n",
       "      <td>1191764926793011233</td>\n",
       "      <td>yoel_turner</td>\n",
       "      <td>Espece d'enfoirer</td>\n",
       "      <td>hateful</td>\n",
       "      <td>0.988475</td>\n",
       "      <td>2024-01-03T18:20:14</td>\n",
       "    </tr>\n",
       "  </tbody>\n",
       "</table>\n",
       "</div>"
      ],
      "text/plain": [
       "                 msg_id           channel_id      user_id  \\\n",
       "25  1192158031958519839  1191764926793011233  yoel_turner   \n",
       "26  1192170456090943618  1191764926793011233  yoel_turner   \n",
       "27  1192170489918017536  1191764926793011233  yoel_turner   \n",
       "28  1192170557500837958  1191764926793011233  yoel_turner   \n",
       "29  1192170574840082492  1191764926793011233  yoel_turner   \n",
       "\n",
       "                                               msg        label     score  \\\n",
       "25                              va te faire foutre      hateful  0.943021   \n",
       "26                                          Yo mec  non-hateful  0.973044   \n",
       "27              C'est quand que tu viens chez moi?  non-hateful  0.918370   \n",
       "28  Je te jure que si tu m'enerves je vais te tuer  non-hateful  0.813966   \n",
       "29                               Espece d'enfoirer      hateful  0.988475   \n",
       "\n",
       "                   date  \n",
       "25  2024-01-03T17:30:24  \n",
       "26  2024-01-03T18:19:46  \n",
       "27  2024-01-03T18:19:54  \n",
       "28  2024-01-03T18:20:10  \n",
       "29  2024-01-03T18:20:14  "
      ]
     },
     "execution_count": 4,
     "metadata": {},
     "output_type": "execute_result"
    }
   ],
   "source": [
    "# Create your connection\n",
    "DATABASE_FILE = \"../data/database/discord.db\"\n",
    "connection = sqlite3.connect(DATABASE_FILE)\n",
    "\n",
    "df = pd.read_sql_query(\"SELECT * FROM messages\", connection)\n",
    "df.tail(5).sort_values(by=['date'])"
   ]
  },
  {
   "cell_type": "code",
   "execution_count": 5,
   "metadata": {},
   "outputs": [
    {
     "data": {
      "text/html": [
       "<div>\n",
       "<style scoped>\n",
       "    .dataframe tbody tr th:only-of-type {\n",
       "        vertical-align: middle;\n",
       "    }\n",
       "\n",
       "    .dataframe tbody tr th {\n",
       "        vertical-align: top;\n",
       "    }\n",
       "\n",
       "    .dataframe thead th {\n",
       "        text-align: right;\n",
       "    }\n",
       "</style>\n",
       "<table border=\"1\" class=\"dataframe\">\n",
       "  <thead>\n",
       "    <tr style=\"text-align: right;\">\n",
       "      <th></th>\n",
       "      <th>channel_id</th>\n",
       "      <th>name</th>\n",
       "      <th>num_users</th>\n",
       "    </tr>\n",
       "  </thead>\n",
       "  <tbody>\n",
       "    <tr>\n",
       "      <th>0</th>\n",
       "      <td>1191764926793011233</td>\n",
       "      <td>general</td>\n",
       "      <td>1</td>\n",
       "    </tr>\n",
       "  </tbody>\n",
       "</table>\n",
       "</div>"
      ],
      "text/plain": [
       "            channel_id     name  num_users\n",
       "0  1191764926793011233  general          1"
      ]
     },
     "execution_count": 5,
     "metadata": {},
     "output_type": "execute_result"
    }
   ],
   "source": [
    "df = pd.read_sql_query(\"SELECT * FROM channels\", connection)\n",
    "df.tail(5)"
   ]
  }
 ],
 "metadata": {
  "kernelspec": {
   "display_name": "mad-env",
   "language": "python",
   "name": "python3"
  },
  "language_info": {
   "codemirror_mode": {
    "name": "ipython",
    "version": 3
   },
   "file_extension": ".py",
   "mimetype": "text/x-python",
   "name": "python",
   "nbconvert_exporter": "python",
   "pygments_lexer": "ipython3",
   "version": "3.10.13"
  }
 },
 "nbformat": 4,
 "nbformat_minor": 2
}
