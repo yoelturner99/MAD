{
 "cells": [
  {
   "cell_type": "code",
   "execution_count": 2,
   "metadata": {},
   "outputs": [],
   "source": [
    "import os\n",
    "import io\n",
    "import zipfile\n",
    "import requests"
   ]
  },
  {
   "cell_type": "code",
   "execution_count": 9,
   "metadata": {},
   "outputs": [],
   "source": [
    "# URL to download ffmpeg\n",
    "ffmpeg_url = \"https://github.com/BtbN/FFmpeg-Builds/releases/download/latest/ffmpeg-master-latest-win64-gpl.zip\"\n",
    "\n",
    "# Directory path to install ffmpeg\n",
    "FILESYSTEM_ROOT = os.path.abspath(os.sep)\n",
    "ffmpeg_dir_path = FILESYSTEM_ROOT + \"ffmpeg\"\n",
    "\n",
    "# Download installation file\n",
    "r = requests.get(ffmpeg_url)\n",
    "\n",
    "# Unzip file\n",
    "z = zipfile.ZipFile(io.BytesIO(r.content))\n",
    "z.extractall(ffmpeg_dir_path)"
   ]
  },
  {
   "cell_type": "code",
   "execution_count": 21,
   "metadata": {},
   "outputs": [
    {
     "name": "stdout",
     "output_type": "stream",
     "text": [
      "c:/ffmpeg/ffmpeg-master-latest-win64-gpl/bin\n"
     ]
    }
   ],
   "source": [
    "# Define ffmpeg bin path\n",
    "extract_folder = ffmpeg_url.split(\"/\")[-1][:-4]\n",
    "ffmpeg_bin_path = os.path.join(ffmpeg_dir_path, extract_folder, \"bin\").replace(\"\\\\\", \"/\")\n",
    "print(ffmpeg_bin_path)\n",
    "\n",
    "# Add it as an environment variables in .env\n",
    "with open(\"../.env\", mode=\"a\", encoding=\"utf-8\") as file:\n",
    "    file.writelines(f\"\\nFFMPEG_BIN={ffmpeg_bin_path}\")"
   ]
  }
 ],
 "metadata": {
  "kernelspec": {
   "display_name": "mad-env",
   "language": "python",
   "name": "python3"
  },
  "language_info": {
   "codemirror_mode": {
    "name": "ipython",
    "version": 3
   },
   "file_extension": ".py",
   "mimetype": "text/x-python",
   "name": "python",
   "nbconvert_exporter": "python",
   "pygments_lexer": "ipython3",
   "version": "3.10.13"
  }
 },
 "nbformat": 4,
 "nbformat_minor": 2
}
