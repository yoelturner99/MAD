{
 "cells": [
  {
   "cell_type": "code",
   "execution_count": 1,
   "metadata": {},
   "outputs": [],
   "source": [
    "import os\n",
    "import io\n",
    "import zipfile\n",
    "import requests"
   ]
  },
  {
   "cell_type": "code",
   "execution_count": 28,
   "metadata": {},
   "outputs": [],
   "source": [
    "# URL to download ffmpeg\n",
    "ffmpeg_url = \"https://github.com/BtbN/FFmpeg-Builds/releases/download/latest/ffmpeg-master-latest-win64-gpl.zip\"\n",
    "\n",
    "# Directory path to install ffmpeg\n",
    "FS_ROOT = os.path.abspath(os.sep)\n",
    "# Download installation file\n",
    "r = requests.get(ffmpeg_url)\n",
    "\n",
    "# Unzip file\n",
    "zip = zipfile.ZipFile(io.BytesIO(r.content))\n",
    "zip.extractall(FS_ROOT)\n",
    "os.rename(\n",
    "    os.path.join(FS_ROOT, zip.namelist()[0]),\n",
    "    os.path.join(FS_ROOT, \"ffmpeg\"),\n",
    ")"
   ]
  }
 ],
 "metadata": {
  "kernelspec": {
   "display_name": "mad-env",
   "language": "python",
   "name": "python3"
  },
  "language_info": {
   "codemirror_mode": {
    "name": "ipython",
    "version": 3
   },
   "file_extension": ".py",
   "mimetype": "text/x-python",
   "name": "python",
   "nbconvert_exporter": "python",
   "pygments_lexer": "ipython3",
   "version": "3.10.13"
  }
 },
 "nbformat": 4,
 "nbformat_minor": 2
}
